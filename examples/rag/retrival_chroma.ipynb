{
 "cells": [
  {
   "cell_type": "code",
   "execution_count": null,
   "metadata": {},
   "outputs": [],
   "source": [
    "import csv\n",
    "import random\n",
    "\n",
    "documents = []\n",
    "with open('../../data/training/training-data.csv', newline='') as csvfile:\n",
    "    reader = csv.DictReader(csvfile)\n",
    "    for row in reader:\n",
    "        documents.append(row['chunk'])\n",
    "\n",
    "documents = random.sample(documents, 1000)"
   ]
  },
  {
   "cell_type": "code",
   "execution_count": null,
   "metadata": {},
   "outputs": [],
   "source": [
    "import chromadb\n",
    "from chromadb.utils import embedding_functions\n",
    "\n",
    "# setup Chroma in-memory, for easy prototyping. Can add persistence easily!\n",
    "client = chromadb.Client()\n",
    "\n",
    "# Create collection. get_collection, get_or_create_collection, delete_collection also available!\n",
    "model_name = \"../../training/models/german-nq-granite-embedding-278m-multilingual/checkpoint-4560\"\n",
    "sentence_transformer_ef = embedding_functions.SentenceTransformerEmbeddingFunction(model_name=model_name)\n",
    "collection = client.get_or_create_collection(\"documents\",embedding_function=sentence_transformer_ef)\n",
    "\n",
    "# Add docs to the collection. Can also update and delete. Row-based API coming soon!\n",
    "collection.add(\n",
    "    documents=documents, # we handle tokenization, embedding, and indexing automatically. You can skip that and add your own embeddings as well\n",
    "    metadatas=[{\"source\": \"array\"}]*len(documents), # filter on these!\n",
    "    ids=[str(i) for i in range(len(documents))], # unique for each doc\n",
    ")\n"
   ]
  },
  {
   "cell_type": "code",
   "execution_count": null,
   "metadata": {},
   "outputs": [],
   "source": [
    "import openai\n",
    "import os\n",
    "from dotenv import load_dotenv\n",
    "\n",
    "load_dotenv()\n",
    "\n",
    "## LLM Configuration\n",
    "base_url = 'url'\n",
    "api_key = \"key\"\n",
    "use_azure = True\n",
    "model = 'gpt-4o-mini'\n",
    "\n",
    "def init_client():\n",
    "    if (use_azure):\n",
    "        client = openai.AzureOpenAI(\n",
    "                azure_endpoint=base_url,\n",
    "                api_key=api_key,\n",
    "                api_version=\"2024-08-01-preview\"\n",
    "        )\n",
    "    else:\n",
    "        client = openai.OpenAI(\n",
    "                api_key=api_key,\n",
    "                base_url=base_url\n",
    "        )\n",
    "    return client\n",
    "\n",
    "def get_answer(prompt, gesetze, question):\n",
    "    response = client.chat.completions.create(\n",
    "                model=model,\n",
    "                messages=[\n",
    "                    {\"role\": \"system\", \"content\": prompt},\n",
    "                    {\"role\": \"system\", \"content\": gesetze},\n",
    "                    {\"role\": \"user\", \"content\": question}],\n",
    "                temperature=0.7,  # Controls randomness\n",
    "                max_tokens=1000    # Limits response length\n",
    "            )\n",
    "    return response.choices[0].message.content\n",
    "\n",
    "\n",
    "client = init_client()\n",
    "with open('answer-prompt.txt', 'r', encoding='utf-8') as f:\n",
    "    prompt = f.read()\n",
    "\n",
    "def find_gesetze(question):\n",
    "        gesetze = collection.query(\n",
    "            query_texts=[question], # query text\n",
    "            n_results=5)['documents'][0]\n",
    "        return \"\\\\n\".join(gesetze)\n",
    "\n",
    "def answer(question):\n",
    "    return get_answer(prompt, find_gesetze(question), question)"
   ]
  },
  {
   "cell_type": "code",
   "execution_count": 13,
   "metadata": {},
   "outputs": [
    {
     "name": "stdout",
     "output_type": "stream",
     "text": [
      "Der Bau eines Carports ist in der Regel verfahrensfrei, wenn bestimmte Voraussetzungen erfüllt sind. Diese sind in der Sächsischen Bauordnung nicht explizit aufgeführt, aber es gibt allgemeine Regelungen für verfahrensfreie Vorhaben. \n",
      "\n",
      "In vielen Fällen sind Carports verfahrensfrei, wenn sie bestimmte Maße nicht überschreiten, wie z.B. eine maximale Fläche oder Höhe. Wenn der Carport nicht in einem bestimmten Abstand zu Grundstücksgrenzen errichtet wird, kann dies ebenfalls die Verfahrensfreiheit beeinflussen.\n",
      "\n",
      "Um sicherzustellen, dass Ihr Carport tatsächlich verfahrensfrei ist, sollten Sie sich bei Ihrer örtlichen Bauaufsichtsbehörde erkundigen. Dort erhalten Sie genaue Informationen zu den spezifischen Anforderungen in Ihrer Gemeinde.\n",
      "\n",
      "Bitte beachten Sie, dass ich Ihnen keine konkreten gesetzlichen Regelungen zu verfahrensfreien Carports bereitstellen kann, da diese Informationen in den bereitgestellten Gesetzestexten nicht vorhanden sind. Ich empfehle Ihnen, die örtlichen Vorschriften oder die Sächsische Bauordnung zu konsultieren oder direkt bei der Bauaufsichtsbehörde nachzufragen.\n"
     ]
    }
   ],
   "source": [
    "question = 'Wann ist der Bau meines Carports Verfahrensfrei?'\n",
    "my_answer = answer(question)\n",
    "print(my_answer)"
   ]
  }
 ],
 "metadata": {
  "kernelspec": {
   "display_name": ".venv",
   "language": "python",
   "name": "python3"
  },
  "language_info": {
   "codemirror_mode": {
    "name": "ipython",
    "version": 3
   },
   "file_extension": ".py",
   "mimetype": "text/x-python",
   "name": "python",
   "nbconvert_exporter": "python",
   "pygments_lexer": "ipython3",
   "version": "3.13.2"
  }
 },
 "nbformat": 4,
 "nbformat_minor": 2
}
