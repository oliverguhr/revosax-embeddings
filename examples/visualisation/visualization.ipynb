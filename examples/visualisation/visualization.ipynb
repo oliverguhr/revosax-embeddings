{
 "cells": [
  {
   "cell_type": "code",
   "execution_count": 1,
   "metadata": {},
   "outputs": [
    {
     "name": "stderr",
     "output_type": "stream",
     "text": [
      "/Users/ogu/source/revosax-embeddings/.venv/lib/python3.13/site-packages/tqdm/auto.py:21: TqdmWarning: IProgress not found. Please update jupyter and ipywidgets. See https://ipywidgets.readthedocs.io/en/stable/user_install.html\n",
      "  from .autonotebook import tqdm as notebook_tqdm\n"
     ]
    }
   ],
   "source": [
    "from datasets import load_dataset, Dataset"
   ]
  },
  {
   "cell_type": "code",
   "execution_count": 2,
   "metadata": {},
   "outputs": [
    {
     "name": "stderr",
     "output_type": "stream",
     "text": [
      "Generating train split: 60789 examples [00:00, 90229.95 examples/s] \n"
     ]
    }
   ],
   "source": [
    "revosax = load_dataset(\"csv\", data_files=\"../../data/training/training-data.csv\", split=\"train\")\n",
    "revosax = revosax.rename_column(\"result\", \"query\").rename_column(\"chunk\", \"answer\")\n",
    "revosax = revosax.select_columns(['query', 'answer'])\n",
    "revosax = revosax.train_test_split(test_size=0.2, seed=12)\n",
    "\n",
    "train_dataset: Dataset = revosax[\"train\"]\n",
    "eval_dataset: Dataset = revosax[\"test\"]"
   ]
  },
  {
   "cell_type": "code",
   "execution_count": 3,
   "metadata": {},
   "outputs": [],
   "source": [
    "texts = train_dataset[\"answer\"][:5000]"
   ]
  },
  {
   "cell_type": "code",
   "execution_count": 4,
   "metadata": {},
   "outputs": [
    {
     "name": "stderr",
     "output_type": "stream",
     "text": [
      "/Users/ogu/source/revosax-embeddings/.venv/lib/python3.13/site-packages/peft/tuners/tuners_utils.py:167: UserWarning: Already found a `peft_config` attribute in the model. This will lead to having multiple adapters in the model. Make sure to know what you are doing!\n",
      "  warnings.warn(\n"
     ]
    }
   ],
   "source": [
    "from sentence_transformers import SentenceTransformer\n",
    "\n",
    "model = SentenceTransformer(\"../../training/models/german-nq-granite-embedding-278m-multilingual/checkpoint-4560\")\n"
   ]
  },
  {
   "cell_type": "code",
   "execution_count": 5,
   "metadata": {},
   "outputs": [
    {
     "name": "stderr",
     "output_type": "stream",
     "text": [
      "Batches: 100%|██████████| 157/157 [00:45<00:00,  3.41it/s]\n"
     ]
    }
   ],
   "source": [
    "result = model.encode(texts, show_progress_bar=True, batch_size=32)\n"
   ]
  },
  {
   "cell_type": "code",
   "execution_count": 6,
   "metadata": {},
   "outputs": [],
   "source": [
    "\n",
    "# save embeddings to a file where each line is a list of floats, separated by tabs\n",
    "with open('embeddings.tsv', 'w') as f:\n",
    "    for row in result:\n",
    "        f.write('\\t'.join(map(str, row)) + '\\n')"
   ]
  },
  {
   "cell_type": "code",
   "execution_count": 7,
   "metadata": {},
   "outputs": [],
   "source": [
    "with open('lines.txt', 'w', encoding='utf-8') as out:\n",
    "    for text in texts:\n",
    "        first = text.split(\"\\n\", 1)[0]\n",
    "        out.write(first + \"\\n\")"
   ]
  }
 ],
 "metadata": {
  "kernelspec": {
   "display_name": ".venv",
   "language": "python",
   "name": "python3"
  },
  "language_info": {
   "codemirror_mode": {
    "name": "ipython",
    "version": 3
   },
   "file_extension": ".py",
   "mimetype": "text/x-python",
   "name": "python",
   "nbconvert_exporter": "python",
   "pygments_lexer": "ipython3",
   "version": "3.13.2"
  }
 },
 "nbformat": 4,
 "nbformat_minor": 2
}
