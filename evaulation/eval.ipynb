{
 "cells": [
  {
   "cell_type": "code",
   "execution_count": null,
   "metadata": {},
   "outputs": [],
   "source": [
    "import random\n",
    "from sentence_transformers import SentenceTransformer\n",
    "from sentence_transformers.evaluation import InformationRetrievalEvaluator\n",
    "from datasets import load_dataset, Dataset\n",
    "\n",
    "# Load a model\n",
    "#model = SentenceTransformer('../training/models/german-nq-granite-embedding-107m-multilingual-exclude-pooling-prompts/checkpoint-4560')\n",
    "#model = SentenceTransformer(\"ibm-granite/granite-embedding-107m-multilingual\")\n",
    "\n",
    "#model = SentenceTransformer(\"../training/models/german-nq-granite-embedding-278m-multilingual/checkpoint-4560\")\n",
    "model = SentenceTransformer(\"ibm-granite/granite-embedding-278m-multilingual\")\n",
    "#model = SentenceTransformer(\"../training/models/german-nq-paraphrase-multilingual-mpnet-base-v2/checkpoint-4560\")\n"
   ]
  },
  {
   "cell_type": "code",
   "execution_count": null,
   "metadata": {},
   "outputs": [],
   "source": [
    "revosax = load_dataset(\"csv\", data_files=\"../data/training/training-data.csv\", split=\"train\")\n",
    "revosax = revosax.rename_column(\"result\", \"query\").rename_column(\"chunk\", \"answer\")\n",
    "revosax = revosax.select_columns(['query', 'answer'])\n",
    "revosax = revosax.train_test_split(test_size=0.2, seed=12)\n",
    "\n",
    "train_dataset: Dataset = revosax[\"train\"]\n",
    "eval_dataset: Dataset = revosax[\"test\"]"
   ]
  },
  {
   "cell_type": "code",
   "execution_count": null,
   "metadata": {},
   "outputs": [],
   "source": [
    "#test = eval_dataset.map(lambda x: x[\"query\"])\n",
    "\n",
    "queries = {str(i): q for i, q in enumerate(eval_dataset[\"query\"])}\n",
    "corpus  = {str(i): a for i, a in enumerate(eval_dataset[\"answer\"])}\n",
    "corpus |= {str(i): a for i, a in enumerate(train_dataset[\"answer\"][:5000],len(eval_dataset))} # plus 5000 random answers from the training set\n",
    "\n",
    "relevant_docs = {qid: {qid} for qid in queries.keys()}\n"
   ]
  },
  {
   "cell_type": "code",
   "execution_count": null,
   "metadata": {},
   "outputs": [],
   "source": [
    "\n",
    "# Given queries, a corpus and a mapping with relevant documents, the InformationRetrievalEvaluator computes different IR metrics.\n",
    "ir_evaluator = InformationRetrievalEvaluator(\n",
    "    queries=queries,\n",
    "    corpus=corpus,\n",
    "    relevant_docs=relevant_docs,\n",
    "    name=\"revosax-test-eval\",\n",
    ")\n",
    "results = ir_evaluator(model)\n",
    "\n",
    "print(ir_evaluator.primary_metric)\n",
    "# => \"BeIR-touche2020-test_cosine_map@100\"\n",
    "print(results[ir_evaluator.primary_metric])\n",
    "# => 0.29335196224364596"
   ]
  },
  {
   "cell_type": "code",
   "execution_count": null,
   "metadata": {},
   "outputs": [],
   "source": [
    "results"
   ]
  },
  {
   "cell_type": "markdown",
   "metadata": {},
   "source": [
    "\n",
    "## IBM Granite 278M Multilingual Trained\n",
    "```\n",
    "{'revosax-test-eval_cosine_accuracy@1': 0.6516696825135713,\n",
    " 'revosax-test-eval_cosine_accuracy@3': 0.8803257114657016,\n",
    " 'revosax-test-eval_cosine_accuracy@5': 0.9356802105609475,\n",
    " 'revosax-test-eval_cosine_accuracy@10': 0.9753248889620003,\n",
    " 'revosax-test-eval_cosine_precision@1': 0.6516696825135713,\n",
    " 'revosax-test-eval_cosine_precision@3': 0.2934419038219005,\n",
    " 'revosax-test-eval_cosine_precision@5': 0.18713604211218954,\n",
    " 'revosax-test-eval_cosine_precision@10': 0.09753248889620005,\n",
    " 'revosax-test-eval_cosine_recall@1': 0.6516696825135713,\n",
    " 'revosax-test-eval_cosine_recall@3': 0.8803257114657016,\n",
    " 'revosax-test-eval_cosine_recall@5': 0.9356802105609475,\n",
    " 'revosax-test-eval_cosine_recall@10': 0.9753248889620003,\n",
    " 'revosax-test-eval_cosine_ndcg@10': 0.8235574387806855,\n",
    " 'revosax-test-eval_cosine_mrr@10': 0.7736648349639784,\n",
    " 'revosax-test-eval_cosine_map@100': 0.7749149190019986}\n",
    " ```\n",
    "\n",
    "\n",
    "## IBM Granite 107M Multilingual Trained\n",
    "\n",
    "```\n",
    "{'revosax-test-eval_cosine_accuracy@1': 0.6322585951636782,\n",
    " 'revosax-test-eval_cosine_accuracy@3': 0.8679059055765751,\n",
    " 'revosax-test-eval_cosine_accuracy@5': 0.9213686461589077,\n",
    " 'revosax-test-eval_cosine_accuracy@10': 0.9643033393650271,\n",
    " 'revosax-test-eval_cosine_precision@1': 0.6322585951636782,\n",
    " 'revosax-test-eval_cosine_precision@3': 0.289301968525525,\n",
    " 'revosax-test-eval_cosine_precision@5': 0.1842737292317816,\n",
    " 'revosax-test-eval_cosine_precision@10': 0.09643033393650272,\n",
    " 'revosax-test-eval_cosine_recall@1': 0.6322585951636782,\n",
    " 'revosax-test-eval_cosine_recall@3': 0.8679059055765751,\n",
    " 'revosax-test-eval_cosine_recall@5': 0.9213686461589077,\n",
    " 'revosax-test-eval_cosine_recall@10': 0.9643033393650271,\n",
    " 'revosax-test-eval_cosine_ndcg@10': 0.8081156070335637,\n",
    " 'revosax-test-eval_cosine_mrr@10': 0.7568607905957787,\n",
    " 'revosax-test-eval_cosine_map@100': 0.7586377475723721}\n",
    "```\n",
    "## paraphrase-multilingual-mpnet\n",
    "```\n",
    "{'revosax-test-eval_cosine_accuracy@1': 0.5957394308274387,\n",
    " 'revosax-test-eval_cosine_accuracy@3': 0.8218456983056424,\n",
    " 'revosax-test-eval_cosine_accuracy@5': 0.8822174699786149,\n",
    " 'revosax-test-eval_cosine_accuracy@10': 0.9325546964961342,\n",
    " 'revosax-test-eval_cosine_precision@1': 0.5957394308274387,\n",
    " 'revosax-test-eval_cosine_precision@3': 0.27394856610188073,\n",
    " 'revosax-test-eval_cosine_precision@5': 0.17644349399572296,\n",
    " 'revosax-test-eval_cosine_precision@10': 0.09325546964961344,\n",
    " 'revosax-test-eval_cosine_recall@1': 0.5957394308274387,\n",
    " 'revosax-test-eval_cosine_recall@3': 0.8218456983056424,\n",
    " 'revosax-test-eval_cosine_recall@5': 0.8822174699786149,\n",
    " 'revosax-test-eval_cosine_recall@10': 0.9325546964961342,\n",
    " 'revosax-test-eval_cosine_ndcg@10': 0.7712046375055522,\n",
    " 'revosax-test-eval_cosine_mrr@10': 0.7186072531770789,\n",
    " 'revosax-test-eval_cosine_map@100': 0.7214377020377937}\n",
    " ```\n"
   ]
  },
  {
   "cell_type": "markdown",
   "metadata": {},
   "source": []
  }
 ],
 "metadata": {
  "kernelspec": {
   "display_name": ".venv",
   "language": "python",
   "name": "python3"
  },
  "language_info": {
   "codemirror_mode": {
    "name": "ipython",
    "version": 3
   },
   "file_extension": ".py",
   "mimetype": "text/x-python",
   "name": "python",
   "nbconvert_exporter": "python",
   "pygments_lexer": "ipython3",
   "version": "3.13.2"
  }
 },
 "nbformat": 4,
 "nbformat_minor": 2
}
