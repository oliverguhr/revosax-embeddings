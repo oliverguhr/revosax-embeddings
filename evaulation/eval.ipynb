{
 "cells": [
  {
   "cell_type": "code",
   "execution_count": null,
   "metadata": {},
   "outputs": [],
   "source": [
    "import random\n",
    "from sentence_transformers import SentenceTransformer\n",
    "from sentence_transformers.evaluation import InformationRetrievalEvaluator\n",
    "from datasets import load_dataset, Dataset\n",
    "\n",
    "# Load a model\n",
    "model = SentenceTransformer('../training/models/german-nq-granite-embedding-107m-multilingual-exclude-pooling-prompts/checkpoint-4560')\n",
    "#model = SentenceTransformer(\"ibm-granite/granite-embedding-107m-multilingual\")\n",
    "\n"
   ]
  },
  {
   "cell_type": "code",
   "execution_count": 63,
   "metadata": {},
   "outputs": [],
   "source": [
    "revosax = load_dataset(\"csv\", data_files=\"../data/training/training-data.csv\", split=\"train\")\n",
    "revosax = revosax.rename_column(\"result\", \"query\").rename_column(\"chunk\", \"answer\")\n",
    "revosax = revosax.select_columns(['query', 'answer'])\n",
    "revosax = revosax.train_test_split(test_size=0.2, seed=12)\n",
    "\n",
    "train_dataset: Dataset = revosax[\"train\"]\n",
    "eval_dataset: Dataset = revosax[\"test\"]"
   ]
  },
  {
   "cell_type": "code",
   "execution_count": 57,
   "metadata": {},
   "outputs": [
    {
     "data": {
      "text/plain": [
       "Dataset({\n",
       "    features: ['query', 'answer'],\n",
       "    num_rows: 12158\n",
       "})"
      ]
     },
     "execution_count": 57,
     "metadata": {},
     "output_type": "execute_result"
    }
   ],
   "source": [
    "eval_dataset"
   ]
  },
  {
   "cell_type": "code",
   "execution_count": 53,
   "metadata": {},
   "outputs": [],
   "source": [
    "#test = eval_dataset.map(lambda x: x[\"query\"])\n",
    "\n",
    "queries = {str(i): q for i, q in enumerate(eval_dataset[\"query\"])}\n",
    "corpus  = {str(i): a for i, a in enumerate(eval_dataset[\"answer\"])}\n",
    "\n",
    "relevant_docs = {qid: {qid} for qid in queries.keys()}\n"
   ]
  },
  {
   "cell_type": "code",
   "execution_count": 14,
   "metadata": {},
   "outputs": [
    {
     "name": "stderr",
     "output_type": "stream",
     "text": [
      "Filter: 100%|██████████| 382545/382545 [00:00<00:00, 684215.81 examples/s]\n"
     ]
    }
   ],
   "source": [
    "# For this dataset, we want to concatenate the title and texts for the corpus\n",
    "corpus = corpus.map(lambda x: {'text': x['title'] + \" \" + x['text']}, remove_columns=['title'])\n",
    "\n",
    "# Shrink the corpus size heavily to only the relevant documents + 30,000 random documents\n",
    "required_corpus_ids = set(map(str, relevant_docs_data[\"corpus-id\"]))\n",
    "required_corpus_ids |= set(random.sample(corpus[\"_id\"], k=30_000))\n",
    "corpus = corpus.filter(lambda x: x[\"_id\"] in required_corpus_ids)\n",
    "\n",
    "# Convert the datasets to dictionaries\n",
    "corpus = dict(zip(corpus[\"_id\"], corpus[\"text\"]))  # Our corpus (cid => document)\n",
    "queries = dict(zip(queries[\"_id\"], queries[\"text\"]))  # Our queries (qid => question)\n",
    "relevant_docs = {}  # Query ID to relevant documents (qid => set([relevant_cids])\n",
    "for qid, corpus_ids in zip(relevant_docs_data[\"query-id\"], relevant_docs_data[\"corpus-id\"]):\n",
    "    qid = str(qid)\n",
    "    corpus_ids = str(corpus_ids)\n",
    "    if qid not in relevant_docs:\n",
    "        relevant_docs[qid] = set()\n",
    "    relevant_docs[qid].add(corpus_ids)\n"
   ]
  },
  {
   "cell_type": "code",
   "execution_count": 61,
   "metadata": {},
   "outputs": [
    {
     "name": "stdout",
     "output_type": "stream",
     "text": [
      "revosax-test-eval_cosine_ndcg@10\n",
      "0.7573468749744551\n"
     ]
    }
   ],
   "source": [
    "\n",
    "# Given queries, a corpus and a mapping with relevant documents, the InformationRetrievalEvaluator computes different IR metrics.\n",
    "ir_evaluator = InformationRetrievalEvaluator(\n",
    "    queries=queries,\n",
    "    corpus=corpus,\n",
    "    relevant_docs=relevant_docs,\n",
    "    name=\"revosax-test-eval\",\n",
    ")\n",
    "results = ir_evaluator(model)\n",
    "\n",
    "print(ir_evaluator.primary_metric)\n",
    "# => \"BeIR-touche2020-test_cosine_map@100\"\n",
    "print(results[ir_evaluator.primary_metric])\n",
    "# => 0.29335196224364596"
   ]
  },
  {
   "cell_type": "code",
   "execution_count": 62,
   "metadata": {},
   "outputs": [
    {
     "data": {
      "text/plain": [
       "{'revosax-test-eval_cosine_accuracy@1': 0.5786313538410923,\n",
       " 'revosax-test-eval_cosine_accuracy@3': 0.8112354005593025,\n",
       " 'revosax-test-eval_cosine_accuracy@5': 0.8670011515051818,\n",
       " 'revosax-test-eval_cosine_accuracy@10': 0.9207928935680211,\n",
       " 'revosax-test-eval_cosine_precision@1': 0.5786313538410923,\n",
       " 'revosax-test-eval_cosine_precision@3': 0.2704118001864342,\n",
       " 'revosax-test-eval_cosine_precision@5': 0.17340023030103638,\n",
       " 'revosax-test-eval_cosine_precision@10': 0.09207928935680212,\n",
       " 'revosax-test-eval_cosine_recall@1': 0.5786313538410923,\n",
       " 'revosax-test-eval_cosine_recall@3': 0.8112354005593025,\n",
       " 'revosax-test-eval_cosine_recall@5': 0.8670011515051818,\n",
       " 'revosax-test-eval_cosine_recall@10': 0.9207928935680211,\n",
       " 'revosax-test-eval_cosine_ndcg@10': 0.7573468749744551,\n",
       " 'revosax-test-eval_cosine_mrr@10': 0.7041161088002624,\n",
       " 'revosax-test-eval_cosine_map@100': 0.7074822036268906}"
      ]
     },
     "execution_count": 62,
     "metadata": {},
     "output_type": "execute_result"
    }
   ],
   "source": [
    "results"
   ]
  },
  {
   "cell_type": "code",
   "execution_count": null,
   "metadata": {},
   "outputs": [],
   "source": [
    "{'revosax-test-eval_cosine_accuracy@1': 0.673877282447771,\n",
    " 'revosax-test-eval_cosine_accuracy@3': 0.8992432965948347,\n",
    " 'revosax-test-eval_cosine_accuracy@5': 0.9430827438723475,\n",
    " 'revosax-test-eval_cosine_accuracy@10': 0.9742556341503537,\n",
    " 'revosax-test-eval_cosine_precision@1': 0.673877282447771,\n",
    " 'revosax-test-eval_cosine_precision@3': 0.29974776553161153,\n",
    " 'revosax-test-eval_cosine_precision@5': 0.1886165487744695,\n",
    " 'revosax-test-eval_cosine_precision@10': 0.09742556341503539,\n",
    " 'revosax-test-eval_cosine_recall@1': 0.673877282447771,\n",
    " 'revosax-test-eval_cosine_recall@3': 0.8992432965948347,\n",
    " 'revosax-test-eval_cosine_recall@5': 0.9430827438723475,\n",
    " 'revosax-test-eval_cosine_recall@10': 0.9742556341503537,\n",
    " 'revosax-test-eval_cosine_ndcg@10': 0.8373392143352189,\n",
    " 'revosax-test-eval_cosine_mrr@10': 0.7919388435859073,\n",
    " 'revosax-test-eval_cosine_map@100': 0.7932480849366578}"
   ]
  }
 ],
 "metadata": {
  "kernelspec": {
   "display_name": ".venv",
   "language": "python",
   "name": "python3"
  },
  "language_info": {
   "codemirror_mode": {
    "name": "ipython",
    "version": 3
   },
   "file_extension": ".py",
   "mimetype": "text/x-python",
   "name": "python",
   "nbconvert_exporter": "python",
   "pygments_lexer": "ipython3",
   "version": "3.13.2"
  }
 },
 "nbformat": 4,
 "nbformat_minor": 2
}
