{
  "cells": [
    {
      "cell_type": "code",
      "execution_count": 19,
      "metadata": {
        "colab": {
          "base_uri": "https://localhost:8080/"
        },
        "id": "r_WxGSETau-F",
        "outputId": "779c6902-7265-4d33-9870-ce46e798cc21"
      },
      "outputs": [
        {
          "name": "stderr",
          "output_type": "stream",
          "text": [
            "huggingface/tokenizers: The current process just got forked, after parallelism has already been used. Disabling parallelism to avoid deadlocks...\n",
            "To disable this warning, you can either:\n",
            "\t- Avoid using `tokenizers` before the fork if possible\n",
            "\t- Explicitly set the environment variable TOKENIZERS_PARALLELISM=(true | false)\n"
          ]
        },
        {
          "name": "stdout",
          "output_type": "stream",
          "text": [
            "Requirement already satisfied: sentence-transformers in /Users/ogu/source/revosax-embeddings/.venv/lib/python3.13/site-packages (4.1.0)\n",
            "Requirement already satisfied: datasets in /Users/ogu/source/revosax-embeddings/.venv/lib/python3.13/site-packages (3.6.0)\n",
            "Requirement already satisfied: tensorboardX in /Users/ogu/source/revosax-embeddings/.venv/lib/python3.13/site-packages (2.6.2.2)\n",
            "Requirement already satisfied: peft in /Users/ogu/source/revosax-embeddings/.venv/lib/python3.13/site-packages (0.15.2)\n",
            "Requirement already satisfied: transformers<5.0.0,>=4.41.0 in /Users/ogu/source/revosax-embeddings/.venv/lib/python3.13/site-packages (from sentence-transformers) (4.51.3)\n",
            "Requirement already satisfied: tqdm in /Users/ogu/source/revosax-embeddings/.venv/lib/python3.13/site-packages (from sentence-transformers) (4.67.1)\n",
            "Requirement already satisfied: torch>=1.11.0 in /Users/ogu/source/revosax-embeddings/.venv/lib/python3.13/site-packages (from sentence-transformers) (2.7.0)\n",
            "Requirement already satisfied: scikit-learn in /Users/ogu/source/revosax-embeddings/.venv/lib/python3.13/site-packages (from sentence-transformers) (1.6.1)\n",
            "Requirement already satisfied: scipy in /Users/ogu/source/revosax-embeddings/.venv/lib/python3.13/site-packages (from sentence-transformers) (1.15.3)\n",
            "Requirement already satisfied: huggingface-hub>=0.20.0 in /Users/ogu/source/revosax-embeddings/.venv/lib/python3.13/site-packages (from sentence-transformers) (0.31.2)\n",
            "Requirement already satisfied: Pillow in /Users/ogu/source/revosax-embeddings/.venv/lib/python3.13/site-packages (from sentence-transformers) (11.2.1)\n",
            "Requirement already satisfied: typing_extensions>=4.5.0 in /Users/ogu/source/revosax-embeddings/.venv/lib/python3.13/site-packages (from sentence-transformers) (4.13.2)\n",
            "Requirement already satisfied: filelock in /Users/ogu/source/revosax-embeddings/.venv/lib/python3.13/site-packages (from datasets) (3.18.0)\n",
            "Requirement already satisfied: numpy>=1.17 in /Users/ogu/source/revosax-embeddings/.venv/lib/python3.13/site-packages (from datasets) (2.2.5)\n",
            "Requirement already satisfied: pyarrow>=15.0.0 in /Users/ogu/source/revosax-embeddings/.venv/lib/python3.13/site-packages (from datasets) (20.0.0)\n",
            "Requirement already satisfied: dill<0.3.9,>=0.3.0 in /Users/ogu/source/revosax-embeddings/.venv/lib/python3.13/site-packages (from datasets) (0.3.8)\n",
            "Requirement already satisfied: pandas in /Users/ogu/source/revosax-embeddings/.venv/lib/python3.13/site-packages (from datasets) (2.2.3)\n",
            "Requirement already satisfied: requests>=2.32.2 in /Users/ogu/source/revosax-embeddings/.venv/lib/python3.13/site-packages (from datasets) (2.32.3)\n",
            "Requirement already satisfied: xxhash in /Users/ogu/source/revosax-embeddings/.venv/lib/python3.13/site-packages (from datasets) (3.5.0)\n",
            "Requirement already satisfied: multiprocess<0.70.17 in /Users/ogu/source/revosax-embeddings/.venv/lib/python3.13/site-packages (from datasets) (0.70.16)\n",
            "Requirement already satisfied: fsspec<=2025.3.0,>=2023.1.0 in /Users/ogu/source/revosax-embeddings/.venv/lib/python3.13/site-packages (from fsspec[http]<=2025.3.0,>=2023.1.0->datasets) (2025.3.0)\n",
            "Requirement already satisfied: packaging in /Users/ogu/source/revosax-embeddings/.venv/lib/python3.13/site-packages (from datasets) (24.2)\n",
            "Requirement already satisfied: pyyaml>=5.1 in /Users/ogu/source/revosax-embeddings/.venv/lib/python3.13/site-packages (from datasets) (6.0.2)\n",
            "Requirement already satisfied: protobuf>=3.20 in /Users/ogu/source/revosax-embeddings/.venv/lib/python3.13/site-packages (from tensorboardX) (5.29.4)\n",
            "Requirement already satisfied: psutil in /Users/ogu/source/revosax-embeddings/.venv/lib/python3.13/site-packages (from peft) (7.0.0)\n",
            "Requirement already satisfied: accelerate>=0.21.0 in /Users/ogu/source/revosax-embeddings/.venv/lib/python3.13/site-packages (from peft) (1.6.0)\n",
            "Requirement already satisfied: safetensors in /Users/ogu/source/revosax-embeddings/.venv/lib/python3.13/site-packages (from peft) (0.5.3)\n",
            "Requirement already satisfied: aiohttp!=4.0.0a0,!=4.0.0a1 in /Users/ogu/source/revosax-embeddings/.venv/lib/python3.13/site-packages (from fsspec[http]<=2025.3.0,>=2023.1.0->datasets) (3.11.18)\n",
            "Requirement already satisfied: charset-normalizer<4,>=2 in /Users/ogu/source/revosax-embeddings/.venv/lib/python3.13/site-packages (from requests>=2.32.2->datasets) (3.4.2)\n",
            "Requirement already satisfied: idna<4,>=2.5 in /Users/ogu/source/revosax-embeddings/.venv/lib/python3.13/site-packages (from requests>=2.32.2->datasets) (3.10)\n",
            "Requirement already satisfied: urllib3<3,>=1.21.1 in /Users/ogu/source/revosax-embeddings/.venv/lib/python3.13/site-packages (from requests>=2.32.2->datasets) (2.4.0)\n",
            "Requirement already satisfied: certifi>=2017.4.17 in /Users/ogu/source/revosax-embeddings/.venv/lib/python3.13/site-packages (from requests>=2.32.2->datasets) (2025.4.26)\n",
            "Requirement already satisfied: setuptools in /Users/ogu/source/revosax-embeddings/.venv/lib/python3.13/site-packages (from torch>=1.11.0->sentence-transformers) (80.4.0)\n",
            "Requirement already satisfied: sympy>=1.13.3 in /Users/ogu/source/revosax-embeddings/.venv/lib/python3.13/site-packages (from torch>=1.11.0->sentence-transformers) (1.14.0)\n",
            "Requirement already satisfied: networkx in /Users/ogu/source/revosax-embeddings/.venv/lib/python3.13/site-packages (from torch>=1.11.0->sentence-transformers) (3.4.2)\n",
            "Requirement already satisfied: jinja2 in /Users/ogu/source/revosax-embeddings/.venv/lib/python3.13/site-packages (from torch>=1.11.0->sentence-transformers) (3.1.6)\n",
            "Requirement already satisfied: regex!=2019.12.17 in /Users/ogu/source/revosax-embeddings/.venv/lib/python3.13/site-packages (from transformers<5.0.0,>=4.41.0->sentence-transformers) (2024.11.6)\n",
            "Requirement already satisfied: tokenizers<0.22,>=0.21 in /Users/ogu/source/revosax-embeddings/.venv/lib/python3.13/site-packages (from transformers<5.0.0,>=4.41.0->sentence-transformers) (0.21.1)\n",
            "Requirement already satisfied: python-dateutil>=2.8.2 in /Users/ogu/source/revosax-embeddings/.venv/lib/python3.13/site-packages (from pandas->datasets) (2.9.0.post0)\n",
            "Requirement already satisfied: pytz>=2020.1 in /Users/ogu/source/revosax-embeddings/.venv/lib/python3.13/site-packages (from pandas->datasets) (2025.2)\n",
            "Requirement already satisfied: tzdata>=2022.7 in /Users/ogu/source/revosax-embeddings/.venv/lib/python3.13/site-packages (from pandas->datasets) (2025.2)\n",
            "Requirement already satisfied: joblib>=1.2.0 in /Users/ogu/source/revosax-embeddings/.venv/lib/python3.13/site-packages (from scikit-learn->sentence-transformers) (1.5.0)\n",
            "Requirement already satisfied: threadpoolctl>=3.1.0 in /Users/ogu/source/revosax-embeddings/.venv/lib/python3.13/site-packages (from scikit-learn->sentence-transformers) (3.6.0)\n",
            "Requirement already satisfied: aiohappyeyeballs>=2.3.0 in /Users/ogu/source/revosax-embeddings/.venv/lib/python3.13/site-packages (from aiohttp!=4.0.0a0,!=4.0.0a1->fsspec[http]<=2025.3.0,>=2023.1.0->datasets) (2.6.1)\n",
            "Requirement already satisfied: aiosignal>=1.1.2 in /Users/ogu/source/revosax-embeddings/.venv/lib/python3.13/site-packages (from aiohttp!=4.0.0a0,!=4.0.0a1->fsspec[http]<=2025.3.0,>=2023.1.0->datasets) (1.3.2)\n",
            "Requirement already satisfied: attrs>=17.3.0 in /Users/ogu/source/revosax-embeddings/.venv/lib/python3.13/site-packages (from aiohttp!=4.0.0a0,!=4.0.0a1->fsspec[http]<=2025.3.0,>=2023.1.0->datasets) (25.3.0)\n",
            "Requirement already satisfied: frozenlist>=1.1.1 in /Users/ogu/source/revosax-embeddings/.venv/lib/python3.13/site-packages (from aiohttp!=4.0.0a0,!=4.0.0a1->fsspec[http]<=2025.3.0,>=2023.1.0->datasets) (1.6.0)\n",
            "Requirement already satisfied: multidict<7.0,>=4.5 in /Users/ogu/source/revosax-embeddings/.venv/lib/python3.13/site-packages (from aiohttp!=4.0.0a0,!=4.0.0a1->fsspec[http]<=2025.3.0,>=2023.1.0->datasets) (6.4.3)\n",
            "Requirement already satisfied: propcache>=0.2.0 in /Users/ogu/source/revosax-embeddings/.venv/lib/python3.13/site-packages (from aiohttp!=4.0.0a0,!=4.0.0a1->fsspec[http]<=2025.3.0,>=2023.1.0->datasets) (0.3.1)\n",
            "Requirement already satisfied: yarl<2.0,>=1.17.0 in /Users/ogu/source/revosax-embeddings/.venv/lib/python3.13/site-packages (from aiohttp!=4.0.0a0,!=4.0.0a1->fsspec[http]<=2025.3.0,>=2023.1.0->datasets) (1.20.0)\n",
            "Requirement already satisfied: six>=1.5 in /Users/ogu/source/revosax-embeddings/.venv/lib/python3.13/site-packages (from python-dateutil>=2.8.2->pandas->datasets) (1.17.0)\n",
            "Requirement already satisfied: mpmath<1.4,>=1.1.0 in /Users/ogu/source/revosax-embeddings/.venv/lib/python3.13/site-packages (from sympy>=1.13.3->torch>=1.11.0->sentence-transformers) (1.3.0)\n",
            "Requirement already satisfied: MarkupSafe>=2.0 in /Users/ogu/source/revosax-embeddings/.venv/lib/python3.13/site-packages (from jinja2->torch>=1.11.0->sentence-transformers) (3.0.2)\n",
            "\n",
            "\u001b[1m[\u001b[0m\u001b[34;49mnotice\u001b[0m\u001b[1;39;49m]\u001b[0m\u001b[39;49m A new release of pip is available: \u001b[0m\u001b[31;49m25.0\u001b[0m\u001b[39;49m -> \u001b[0m\u001b[32;49m25.1.1\u001b[0m\n",
            "\u001b[1m[\u001b[0m\u001b[34;49mnotice\u001b[0m\u001b[1;39;49m]\u001b[0m\u001b[39;49m To update, run: \u001b[0m\u001b[32;49mpip install --upgrade pip\u001b[0m\n"
          ]
        }
      ],
      "source": [
        "!pip install sentence-transformers datasets tensorboardX peft"
      ]
    },
    {
      "cell_type": "markdown",
      "metadata": {},
      "source": [
        "## Training \n",
        "\n",
        "This script is based on https://sbert.net/docs/sentence_transformer/training_overview.html"
      ]
    },
    {
      "cell_type": "code",
      "execution_count": 20,
      "metadata": {
        "id": "F8ihcnlZahKJ"
      },
      "outputs": [],
      "source": [
        "import logging\n",
        "import random\n",
        "\n",
        "import numpy\n",
        "import torch\n",
        "\n",
        "from datasets import Dataset, load_dataset\n",
        "\n",
        "from sentence_transformers import (\n",
        "    SentenceTransformer,\n",
        "    SentenceTransformerModelCardData,\n",
        "    SentenceTransformerTrainer,\n",
        "    SentenceTransformerTrainingArguments,\n",
        ")\n",
        "from sentence_transformers.losses import MultipleNegativesRankingLoss, CachedMultipleNegativesRankingLoss\n",
        "from sentence_transformers.training_args import BatchSamplers"
      ]
    },
    {
      "cell_type": "code",
      "execution_count": 21,
      "metadata": {
        "id": "CUC1gTi9az12"
      },
      "outputs": [],
      "source": [
        "logging.basicConfig(format=\"%(asctime)s - %(message)s\", datefmt=\"%Y-%m-%d %H:%M:%S\", level=logging.INFO)\n",
        "random.seed(12)\n",
        "torch.manual_seed(12)\n",
        "numpy.random.seed(12)"
      ]
    },
    {
      "cell_type": "code",
      "execution_count": 22,
      "metadata": {
        "id": "urdtUywzbIzA"
      },
      "outputs": [],
      "source": [
        "# Feel free to adjust these variables:\n",
        "use_prompts = False\n",
        "include_prompts_in_pooling = False"
      ]
    },
    {
      "cell_type": "code",
      "execution_count": null,
      "metadata": {
        "id": "OVWkJqDRbLyj"
      },
      "outputs": [],
      "source": [
        "base_model_name = \"sentence-transformers/paraphrase-multilingual-mpnet-base-v2\"\n"
      ]
    },
    {
      "cell_type": "code",
      "execution_count": 24,
      "metadata": {
        "id": "2c65RxrHbO4M"
      },
      "outputs": [
        {
          "name": "stderr",
          "output_type": "stream",
          "text": [
            "2025-05-14 11:41:38 - Use pytorch device_name: mps\n",
            "2025-05-14 11:41:38 - Load pretrained SentenceTransformer: sentence-transformers/paraphrase-multilingual-mpnet-base-v2\n"
          ]
        }
      ],
      "source": [
        "model = SentenceTransformer(\n",
        "    base_model_name,\n",
        "    #tokenizer_kwargs={\"max_seq_length\": 512},\n",
        "    model_card_data=SentenceTransformerModelCardData(\n",
        "        language=\"de\",\n",
        "        license=\"apache-2.0\",\n",
        "        model_name=f\"{base_model_name} trained on german Natural Questions pairs\",\n",
        "    ),\n",
        ").to(torch.bfloat16)"
      ]
    },
    {
      "cell_type": "code",
      "execution_count": 25,
      "metadata": {
        "id": "qJEWE5BAbWU4"
      },
      "outputs": [],
      "source": [
        "model.set_pooling_include_prompt(include_prompts_in_pooling)"
      ]
    },
    {
      "cell_type": "code",
      "execution_count": 26,
      "metadata": {
        "id": "N-IbzEWXnEQ3"
      },
      "outputs": [],
      "source": [
        "#from peft import LoraModel, LoraConfig, TaskType"
      ]
    },
    {
      "cell_type": "code",
      "execution_count": 27,
      "metadata": {
        "id": "oQo-jFCPbcUE"
      },
      "outputs": [],
      "source": [
        "#peft_config = LoraConfig(\n",
        "#    task_type= TaskType.FEATURE_EXTRACTION,\n",
        "#    inference_mode=False,\n",
        "#    r=64,\n",
        "#    lora_alpha=128,\n",
        "#    lora_dropout=0.1,\n",
        "#)\n",
        "#model.add_adapter(peft_config)\n",
        "\n",
        "# 2. (Optional) Define prompts\n",
        "if use_prompts:\n",
        "    query_prompt = \"query: \"\n",
        "    corpus_prompt = \"document: \"\n",
        "    prompts = {\n",
        "        \"query\": query_prompt,\n",
        "        \"answer\": corpus_prompt,\n",
        "    }"
      ]
    },
    {
      "cell_type": "code",
      "execution_count": 28,
      "metadata": {
        "id": "Wo0Ru0U0blhk"
      },
      "outputs": [],
      "source": [
        "#natural_questions_german = load_dataset(\"oliverguhr/natural-questions-german\", split=\"train\")\n",
        "\n",
        "#natural_questions_german = natural_questions_german.remove_columns([\"answer\", \"query\"]) # delete the english language columns\n",
        "#natural_questions_german = natural_questions_german.rename_column(\"query_de\", \"query\").rename_column(\"answer_de\", \"answer\")\n",
        "#\n",
        "#\n",
        "#natural_questions_german = natural_questions_german.train_test_split(test_size=0.1, seed=12)\n",
        "#\n",
        "#train_dataset: Dataset = natural_questions_german[\"train\"]\n",
        "#eval_dataset: Dataset = natural_questions_german[\"test\"]"
      ]
    },
    {
      "cell_type": "code",
      "execution_count": 29,
      "metadata": {},
      "outputs": [],
      "source": [
        "revosax = load_dataset(\"csv\", data_files=\"../data/training/training-data.csv\", split=\"train\")\n",
        "revosax = revosax.rename_column(\"result\", \"query\").rename_column(\"chunk\", \"answer\")\n",
        "revosax = revosax.select_columns(['query', 'answer'])\n",
        "revosax = revosax.train_test_split(test_size=0.2, seed=12)\n",
        "\n",
        "train_dataset: Dataset = revosax[\"train\"]\n",
        "eval_dataset: Dataset = revosax[\"test\"]"
      ]
    },
    {
      "cell_type": "code",
      "execution_count": 30,
      "metadata": {},
      "outputs": [
        {
          "data": {
            "text/plain": [
              "DatasetDict({\n",
              "    train: Dataset({\n",
              "        features: ['query', 'answer'],\n",
              "        num_rows: 48648\n",
              "    })\n",
              "    test: Dataset({\n",
              "        features: ['query', 'answer'],\n",
              "        num_rows: 12162\n",
              "    })\n",
              "})"
            ]
          },
          "execution_count": 30,
          "metadata": {},
          "output_type": "execute_result"
        }
      ],
      "source": [
        "revosax"
      ]
    },
    {
      "cell_type": "code",
      "execution_count": 31,
      "metadata": {
        "id": "3DVENCv6b7I1"
      },
      "outputs": [],
      "source": [
        "# 4. Define a loss function\n",
        "#loss = CachedMultipleNegativesRankingLoss(model, mini_batch_size=32) # <- this does not work with mps\n",
        "loss = MultipleNegativesRankingLoss(model)"
      ]
    },
    {
      "cell_type": "code",
      "execution_count": 32,
      "metadata": {
        "id": "IApkDilmb946"
      },
      "outputs": [],
      "source": [
        "# 5. (Optional) Specify training arguments\n",
        "run_name = \"german-nq-\" + base_model_name.split(\"/\")[-1]\n",
        "if use_prompts:\n",
        "    run_name += \"-prompts\"\n",
        "if not include_prompts_in_pooling:\n",
        "    run_name += \"-exclude-pooling-prompts\"\n",
        "args = SentenceTransformerTrainingArguments(\n",
        "    # Required parameter:\n",
        "    output_dir=f\"models/{run_name}\",\n",
        "    # Optional training parameters:\n",
        "    num_train_epochs=3,\n",
        "    per_device_train_batch_size=32,\n",
        "    per_device_eval_batch_size=32,\n",
        "    gradient_accumulation_steps=1,\n",
        "    learning_rate=4e-5,\n",
        "    warmup_ratio=0.1,\n",
        "    fp16=False,  # Set to False if you get an error that your GPU can't run on FP16\n",
        "    bf16=True,  # Set to True if you have a GPU that supports BF16\n",
        "    batch_sampler=BatchSamplers.NO_DUPLICATES,  # MultipleNegativesRankingLoss benefits from no duplicate samples in a batch\n",
        "    # Optional tracking/debugging parameters:\n",
        "    eval_strategy=\"steps\",\n",
        "    eval_steps=0.2,\n",
        "    save_strategy=\"steps\",\n",
        "    save_steps=0.2,\n",
        "    save_total_limit=2,\n",
        "    logging_steps=5,\n",
        "    logging_first_step=True,\n",
        "    run_name=run_name,  # Will be used in W&B if `wandb` is installed\n",
        "    seed=12,\n",
        "    prompts=prompts if use_prompts else None,\n",
        "    report_to=\"tensorboard\",\n",
        ")"
      ]
    },
    {
      "cell_type": "code",
      "execution_count": null,
      "metadata": {
        "colab": {
          "base_uri": "https://localhost:8080/",
          "height": 75
        },
        "id": "kqsXuTz5cMv1",
        "outputId": "b91ffb40-4c9a-44d4-a7d0-aca7554b452f"
      },
      "outputs": [
        {
          "data": {
            "text/html": [
              "\n",
              "    <div>\n",
              "      \n",
              "      <progress value='46' max='4563' style='width:300px; height:20px; vertical-align: middle;'></progress>\n",
              "      [  46/4563 00:16 < 28:33, 2.64 it/s, Epoch 0.03/3]\n",
              "    </div>\n",
              "    <table border=\"1\" class=\"dataframe\">\n",
              "  <thead>\n",
              " <tr style=\"text-align: left;\">\n",
              "      <th>Step</th>\n",
              "      <th>Training Loss</th>\n",
              "      <th>Validation Loss</th>\n",
              "    </tr>\n",
              "  </thead>\n",
              "  <tbody>\n",
              "  </tbody>\n",
              "</table><p>"
            ],
            "text/plain": [
              "<IPython.core.display.HTML object>"
            ]
          },
          "metadata": {},
          "output_type": "display_data"
        }
      ],
      "source": [
        "# 7. Create a trainer & train\n",
        "trainer = SentenceTransformerTrainer(\n",
        "    model=model,\n",
        "    args=args,\n",
        "    train_dataset=train_dataset,\n",
        "    eval_dataset=eval_dataset,\n",
        "    loss=loss,\n",
        "    #evaluator=dev_evaluator,\n",
        ")\n",
        "trainer.train()"
      ]
    }
  ],
  "metadata": {
    "accelerator": "GPU",
    "colab": {
      "gpuType": "T4",
      "provenance": []
    },
    "kernelspec": {
      "display_name": ".venv",
      "language": "python",
      "name": "python3"
    },
    "language_info": {
      "codemirror_mode": {
        "name": "ipython",
        "version": 3
      },
      "file_extension": ".py",
      "mimetype": "text/x-python",
      "name": "python",
      "nbconvert_exporter": "python",
      "pygments_lexer": "ipython3",
      "version": "3.13.2"
    }
  },
  "nbformat": 4,
  "nbformat_minor": 0
}
