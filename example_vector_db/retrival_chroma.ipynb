{
 "cells": [
  {
   "cell_type": "code",
   "execution_count": 1,
   "metadata": {},
   "outputs": [],
   "source": [
    "testdocument = \"\"\"## Abgeordnetengesetz § 3  Wahlvorbereitungsurlaub\n",
    "\n",
    "(1) Einer Bewerberin oder einem Bewerber um einen Sitz im Landtag oder in der gesetzgebenden Körperschaft eines anderen Landes ist zur Vorbereitung ihrer oder seiner Wahl innerhalb der letzten zwei Monate vor dem Wahltag auf Antrag Urlaub bis zu zwei Monaten zu gewähren. Ein Anspruch auf Fortzahlung der Bezüge besteht für die Dauer der Beurlaubung nicht.\n",
    "\n",
    "(2) Einer Beamtin oder einem Beamten beziehungsweise einer Richterin oder einem Richter, die oder der sich um einen Sitz im Landtag oder in der gesetzgebenden Körperschaft eines anderen Landes, im Deutschen Bundestag oder im Europäischen Parlament bewirbt, ist zur Vorbereitung seiner Wahl innerhalb der letzten zwei Monate vor dem Wahltag auf Antrag Urlaub bis zu zwei Monaten unter Wegfall der Dienstbezüge zu gewähren. Der Anspruch auf Beihilfe in Krankheits-, Geburts- und Todesfällen bleibt unberührt.\"\"\"\n",
    "\n",
    "documents = [\n",
    "    \"Die Natur ist ein integraler Bestandteil unseres Lebens.\",\n",
    "    \"Die Technologie entwickelt sich in rasantem Tempo.\",\n",
    "    \"Gesunde Ernährung ist wichtig für Körper und Geist.\",\n",
    "    \"Das Universum ist weit und voller Geheimnisse.\",\n",
    "    testdocument\n",
    "]\n"
   ]
  },
  {
   "cell_type": "code",
   "execution_count": 2,
   "metadata": {},
   "outputs": [
    {
     "name": "stderr",
     "output_type": "stream",
     "text": [
      "/Users/ogu/source/revosax-embeddings/.venv/lib/python3.13/site-packages/tqdm/auto.py:21: TqdmWarning: IProgress not found. Please update jupyter and ipywidgets. See https://ipywidgets.readthedocs.io/en/stable/user_install.html\n",
      "  from .autonotebook import tqdm as notebook_tqdm\n",
      "/Users/ogu/source/revosax-embeddings/.venv/lib/python3.13/site-packages/peft/tuners/tuners_utils.py:167: UserWarning: Already found a `peft_config` attribute in the model. This will lead to having multiple adapters in the model. Make sure to know what you are doing!\n",
      "  warnings.warn(\n"
     ]
    }
   ],
   "source": [
    "import chromadb\n",
    "from chromadb.utils import embedding_functions\n",
    "\n",
    "# setup Chroma in-memory, for easy prototyping. Can add persistence easily!\n",
    "client = chromadb.Client()\n",
    "\n",
    "# Create collection. get_collection, get_or_create_collection, delete_collection also available!\n",
    "model_name = \"../training/models/german-nq-granite-embedding-278m-multilingual/checkpoint-4560\"\n",
    "sentence_transformer_ef = embedding_functions.SentenceTransformerEmbeddingFunction(model_name=model_name)\n",
    "collection = client.get_or_create_collection(\"documents\",embedding_function=sentence_transformer_ef)\n",
    "\n",
    "# Add docs to the collection. Can also update and delete. Row-based API coming soon!\n",
    "collection.add(\n",
    "    documents=documents, # we handle tokenization, embedding, and indexing automatically. You can skip that and add your own embeddings as well\n",
    "    metadatas=[{\"source\": \"array\"}]*len(documents), # filter on these!\n",
    "    ids=[str(i) for i in range(len(documents))], # unique for each doc\n",
    ")\n"
   ]
  },
  {
   "cell_type": "code",
   "execution_count": 5,
   "metadata": {},
   "outputs": [
    {
     "data": {
      "text/plain": [
       "{'ids': [['4', '3', '0', '1', '2']],\n",
       " 'embeddings': None,\n",
       " 'documents': [['## Abgeordnetengesetz §\\xa03 \\xa0Wahlvorbereitungsurlaub\\n\\n(1)\\xa0Einer Bewerberin oder einem Bewerber um einen Sitz im Landtag oder in der gesetzgebenden Körperschaft eines anderen Landes ist zur Vorbereitung ihrer oder seiner Wahl innerhalb der letzten zwei\\xa0Monate vor dem Wahltag auf Antrag Urlaub bis zu zwei\\xa0Monaten zu gewähren. Ein Anspruch auf Fortzahlung der Bezüge besteht für die Dauer der Beurlaubung nicht.\\n\\n(2)\\xa0Einer Beamtin oder einem Beamten beziehungsweise einer Richterin oder einem Richter, die oder der sich um einen Sitz im Landtag oder in der gesetzgebenden Körperschaft eines anderen Landes, im Deutschen Bundestag oder im\\xa0Europäischen Parlament bewirbt, ist zur Vorbereitung seiner Wahl innerhalb der letzten zwei\\xa0Monate vor dem Wahltag auf Antrag Urlaub bis zu zwei\\xa0Monaten unter Wegfall der Dienstbezüge zu gewähren. Der Anspruch auf Beihilfe in Krankheits-, Geburts- und Todesfällen bleibt unberührt.',\n",
       "   'Das Universum ist weit und voller Geheimnisse.',\n",
       "   'Die Natur ist ein integraler Bestandteil unseres Lebens.',\n",
       "   'Die Technologie entwickelt sich in rasantem Tempo.',\n",
       "   'Gesunde Ernährung ist wichtig für Körper und Geist.']],\n",
       " 'uris': None,\n",
       " 'included': ['metadatas', 'documents', 'distances'],\n",
       " 'data': None,\n",
       " 'metadatas': [[{'source': 'array'},\n",
       "   {'source': 'array'},\n",
       "   {'source': 'array'},\n",
       "   {'source': 'array'},\n",
       "   {'source': 'array'}]],\n",
       " 'distances': [[0.5536994934082031,\n",
       "   1.3482788801193237,\n",
       "   1.3782379627227783,\n",
       "   1.4079090356826782,\n",
       "   1.453202247619629]]}"
      ]
     },
     "execution_count": 5,
     "metadata": {},
     "output_type": "execute_result"
    }
   ],
   "source": [
    "# Query/search 2 most similar results. You can also .get by id\n",
    "results = collection.query(\n",
    "    query_texts=[\"Wann dürfen Abgeordnete Urlaub nehmen?\"], # query text\n",
    "    n_results=5,\n",
    "    # where={\"metadata_field\": \"is_equal_to_this\"}, # optional filter\n",
    "    # where_document={\"$contains\":\"search_string\"}  # optional filter\n",
    ")\n",
    "\n",
    "results"
   ]
  }
 ],
 "metadata": {
  "kernelspec": {
   "display_name": ".venv",
   "language": "python",
   "name": "python3"
  },
  "language_info": {
   "codemirror_mode": {
    "name": "ipython",
    "version": 3
   },
   "file_extension": ".py",
   "mimetype": "text/x-python",
   "name": "python",
   "nbconvert_exporter": "python",
   "pygments_lexer": "ipython3",
   "version": "3.13.2"
  }
 },
 "nbformat": 4,
 "nbformat_minor": 2
}
